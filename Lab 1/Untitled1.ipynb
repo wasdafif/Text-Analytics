{
 "cells": [
  {
   "cell_type": "code",
   "execution_count": 1,
   "id": "c4bf869b",
   "metadata": {},
   "outputs": [],
   "source": [
    "my_file = open('test.txt')"
   ]
  },
  {
   "cell_type": "code",
   "execution_count": 2,
   "id": "407dbf30",
   "metadata": {},
   "outputs": [
    {
     "data": {
      "text/plain": [
       "'Hello, this is a quick test file.\\nThis is the second line of the file. '"
      ]
     },
     "execution_count": 2,
     "metadata": {},
     "output_type": "execute_result"
    }
   ],
   "source": [
    "my_file.read()"
   ]
  },
  {
   "cell_type": "code",
   "execution_count": 3,
   "id": "50adfeec",
   "metadata": {},
   "outputs": [
    {
     "data": {
      "text/plain": [
       "0"
      ]
     },
     "execution_count": 3,
     "metadata": {},
     "output_type": "execute_result"
    }
   ],
   "source": [
    "my_file.seek(0)"
   ]
  },
  {
   "cell_type": "code",
   "execution_count": 4,
   "id": "8876b698",
   "metadata": {},
   "outputs": [
    {
     "data": {
      "text/plain": [
       "'Hello, this is a quick test file.\\nThis is the second line of the file. '"
      ]
     },
     "execution_count": 4,
     "metadata": {},
     "output_type": "execute_result"
    }
   ],
   "source": [
    "my_file.read()"
   ]
  },
  {
   "cell_type": "code",
   "execution_count": 5,
   "id": "078fcef9",
   "metadata": {},
   "outputs": [
    {
     "data": {
      "text/plain": [
       "['Hello, this is a quick test file.\\n',\n",
       " 'This is the second line of the file. ']"
      ]
     },
     "execution_count": 5,
     "metadata": {},
     "output_type": "execute_result"
    }
   ],
   "source": [
    "my_file.seek(0)\n",
    "my_file.readlines()"
   ]
  },
  {
   "cell_type": "code",
   "execution_count": 6,
   "id": "12e38bc9",
   "metadata": {},
   "outputs": [],
   "source": [
    "my_file.close()"
   ]
  },
  {
   "cell_type": "code",
   "execution_count": 7,
   "id": "d3098b11",
   "metadata": {},
   "outputs": [],
   "source": [
    "my_file = open('test.txt','w+')"
   ]
  },
  {
   "cell_type": "code",
   "execution_count": 8,
   "id": "871c1789",
   "metadata": {},
   "outputs": [
    {
     "data": {
      "text/plain": [
       "24"
      ]
     },
     "execution_count": 8,
     "metadata": {},
     "output_type": "execute_result"
    }
   ],
   "source": [
    "my_file.write('This is a new first line')"
   ]
  },
  {
   "cell_type": "code",
   "execution_count": 9,
   "id": "ebef53ef",
   "metadata": {},
   "outputs": [
    {
     "data": {
      "text/plain": [
       "'This is a new first line'"
      ]
     },
     "execution_count": 9,
     "metadata": {},
     "output_type": "execute_result"
    }
   ],
   "source": [
    "my_file.seek(0)\n",
    "my_file.read()"
   ]
  },
  {
   "cell_type": "code",
   "execution_count": 10,
   "id": "5bfebc4a",
   "metadata": {},
   "outputs": [],
   "source": [
    "my_file.close()"
   ]
  },
  {
   "cell_type": "code",
   "execution_count": 11,
   "id": "8b968189",
   "metadata": {},
   "outputs": [
    {
     "data": {
      "text/plain": [
       "23"
      ]
     },
     "execution_count": 11,
     "metadata": {},
     "output_type": "execute_result"
    }
   ],
   "source": [
    "my_file = open('test.txt','a+')\n",
    "my_file.write('\\nThis line is being appended to test.txt')\n",
    "my_file.write('\\nAnd another line here.')"
   ]
  },
  {
   "cell_type": "code",
   "execution_count": 12,
   "id": "497047db",
   "metadata": {},
   "outputs": [
    {
     "name": "stdout",
     "output_type": "stream",
     "text": [
      "This is a new first line\n",
      "This line is being appended to test.txt\n",
      "And another line here.\n"
     ]
    }
   ],
   "source": [
    "my_file.seek(0)\n",
    "print(my_file.read())"
   ]
  },
  {
   "cell_type": "code",
   "execution_count": 13,
   "id": "dc84ab2a",
   "metadata": {},
   "outputs": [],
   "source": [
    "my_file.close()"
   ]
  },
  {
   "cell_type": "code",
   "execution_count": 15,
   "id": "a914f8a8",
   "metadata": {},
   "outputs": [
    {
     "name": "stdout",
     "output_type": "stream",
     "text": [
      "This is a new first line\n",
      "This line is being appended to test.txt\n",
      "And another line here."
     ]
    }
   ],
   "source": [
    "with open('test.txt','r') as txt:\n",
    "    for line in txt:\n",
    "        print(line, end='')"
   ]
  },
  {
   "cell_type": "code",
   "execution_count": 23,
   "id": "394e1384",
   "metadata": {},
   "outputs": [
    {
     "name": "stdout",
     "output_type": "stream",
     "text": [
      "Comments extracted and saved to comments.txt\n"
     ]
    }
   ],
   "source": [
    "import csv\n",
    "# Define the CSV file name\n",
    "csv_file = 'sample_data.csv'\n",
    "# Define the output text file name\n",
    "output_file = 'comments.txt'\n",
    "# Open the CSV file for reading\n",
    "with open(csv_file, 'r', newline='') as csvfile:\n",
    "    # Create a CSV reader object\n",
    "    reader = csv.DictReader(csvfile)\n",
    "    # Initialize a list to store the comments\n",
    "    comments = []\n",
    "    # Iterate over each row in the CSV file\n",
    "    for row in reader:\n",
    "        # Extract the 'comments' column value and add it to the list\n",
    "        \n",
    "        comments.append(row['comments'])\n",
    "        \n",
    "# Open the output text file for writing\n",
    "with open(output_file, 'w') as txtfile:\n",
    "    # Write each comment to the text file\n",
    "    for comment in comments:\n",
    "        txtfile.write(comment + '\\n')\n",
    "print(\"Comments extracted and saved to\", output_file)"
   ]
  },
  {
   "cell_type": "code",
   "execution_count": 24,
   "id": "2fda515d",
   "metadata": {},
   "outputs": [],
   "source": [
    "my_file = open('comments.txt')"
   ]
  },
  {
   "cell_type": "code",
   "execution_count": 25,
   "id": "1f4f4381",
   "metadata": {},
   "outputs": [
    {
     "data": {
      "text/plain": [
       "'Comment1\\nComment2\\nComment3\\nComment4\\nComment5\\n'"
      ]
     },
     "execution_count": 25,
     "metadata": {},
     "output_type": "execute_result"
    }
   ],
   "source": [
    "my_file.read()"
   ]
  },
  {
   "cell_type": "code",
   "execution_count": 27,
   "id": "b81bfb40",
   "metadata": {},
   "outputs": [
    {
     "name": "stdout",
     "output_type": "stream",
     "text": [
      "Comments extracted and saved to comments.txt\n"
     ]
    }
   ],
   "source": [
    "import pandas as pd\n",
    "\n",
    "# Define the Excel file name\n",
    "excel_file = 'sample_data.xlsx'\n",
    "\n",
    "# Define the output text file name\n",
    "output_file = 'comments.txt'\n",
    "\n",
    "# Read the Excel file\n",
    "df = pd.read_excel(excel_file)\n",
    "\n",
    "# Extract the 'comments' column\n",
    "comments = df['comments']\n",
    "\n",
    "# Open the output text file for writing\n",
    "with open(output_file, 'w') as txtfile:  \n",
    "    # Write each comment to the text file\n",
    "    for comment in comments:\n",
    "        txtfile.write(str(comment) + '\\n')\n",
    "        \n",
    "print(\"Comments extracted and saved to\", output_file)"
   ]
  },
  {
   "cell_type": "code",
   "execution_count": 28,
   "id": "2f9c8d7e",
   "metadata": {},
   "outputs": [],
   "source": [
    "my_file = open('comments.txt')"
   ]
  },
  {
   "cell_type": "code",
   "execution_count": 29,
   "id": "1ceb20cd",
   "metadata": {},
   "outputs": [
    {
     "data": {
      "text/plain": [
       "'Comment1\\nComment2\\nComment3\\nComment4\\nComment5\\n'"
      ]
     },
     "execution_count": 29,
     "metadata": {},
     "output_type": "execute_result"
    }
   ],
   "source": [
    "my_file.read()"
   ]
  },
  {
   "cell_type": "code",
   "execution_count": 30,
   "id": "d9ed07b7",
   "metadata": {},
   "outputs": [
    {
     "name": "stdout",
     "output_type": "stream",
     "text": [
      "Collecting PyPDF2\n",
      "  Obtaining dependency information for PyPDF2 from https://files.pythonhosted.org/packages/8e/5e/c86a5643653825d3c913719e788e41386bee415c2b87b4f955432f2de6b2/pypdf2-3.0.1-py3-none-any.whl.metadata\n",
      "  Downloading pypdf2-3.0.1-py3-none-any.whl.metadata (6.8 kB)\n",
      "Downloading pypdf2-3.0.1-py3-none-any.whl (232 kB)\n",
      "   ---------------------------------------- 0.0/232.6 kB ? eta -:--:--\n",
      "   - -------------------------------------- 10.2/232.6 kB ? eta -:--:--\n",
      "   ------ -------------------------------- 41.0/232.6 kB 653.6 kB/s eta 0:00:01\n",
      "   -------------------------------------- - 225.3/232.6 kB 2.3 MB/s eta 0:00:01\n",
      "   ---------------------------------------- 232.6/232.6 kB 1.8 MB/s eta 0:00:00\n",
      "Installing collected packages: PyPDF2\n",
      "Successfully installed PyPDF2-3.0.1\n",
      "Note: you may need to restart the kernel to use updated packages.\n"
     ]
    }
   ],
   "source": [
    "pip install PyPDF2"
   ]
  },
  {
   "cell_type": "code",
   "execution_count": 31,
   "id": "296ba800",
   "metadata": {},
   "outputs": [],
   "source": [
    "import PyPDF2"
   ]
  },
  {
   "cell_type": "code",
   "execution_count": 33,
   "id": "37f6efe9",
   "metadata": {},
   "outputs": [],
   "source": [
    "f = open('US_Declaration.pdf','rb')"
   ]
  },
  {
   "cell_type": "code",
   "execution_count": 34,
   "id": "23e81643",
   "metadata": {},
   "outputs": [],
   "source": [
    "pdf_reader = PyPDF2.PdfReader(f)"
   ]
  },
  {
   "cell_type": "code",
   "execution_count": 35,
   "id": "0df87e1d",
   "metadata": {},
   "outputs": [
    {
     "data": {
      "text/plain": [
       "5"
      ]
     },
     "execution_count": 35,
     "metadata": {},
     "output_type": "execute_result"
    }
   ],
   "source": [
    "len(pdf_reader.pages)"
   ]
  },
  {
   "cell_type": "code",
   "execution_count": 36,
   "id": "97166b71",
   "metadata": {},
   "outputs": [],
   "source": [
    "page_one = pdf_reader.pages[0]"
   ]
  },
  {
   "cell_type": "code",
   "execution_count": 37,
   "id": "2b748d78",
   "metadata": {},
   "outputs": [],
   "source": [
    "page_one_text = page_one.extract_text()"
   ]
  },
  {
   "cell_type": "code",
   "execution_count": 38,
   "id": "979c49de",
   "metadata": {},
   "outputs": [
    {
     "data": {
      "text/plain": [
       "\"Declaration of Independence\\nIN CONGRESS, July 4, 1776.  \\nThe unanimous Declaration of the thirteen united States of America,  \\nWhen in the Course of human events, it becomes necessary for one people to dissolve thepolitical bands which have connected them with another, and to assume among the powers of theearth, the separate and equal station to which the Laws of Nature and of Nature's God entitlethem, a decent respect to the opinions of mankind requires that they should declare the causeswhich impel them to the separation. We hold these truths to be self-evident, that all men are created equal, that they are endowed bytheir Creator with certain unalienable Rights, that among these are Life, Liberty and the pursuit\\nof Happiness.— \\x14That to secure these rights, Governments are instituted among Men, derivingtheir just powers from the consent of the governed,—  \\x14That whenever any Form of Government\\nbecomes destructive of these ends, it is the Right of the People to alter or to abolish it, and to\\ninstitute new Government, laying its foundation on such principles and organizing its powers in\\nsuch form, as to them shall seem most likely to effect their Safety and Happiness. Prudence,indeed, will dictate that Governments long established should not be changed for light andtransient causes; and accordingly all experience hath shewn, that mankind are more disposed to\\nsuffer, while evils are sufferable, than to right themselves by abolishing the forms to which theyare accustomed. But when a long train of abuses and usurpations, pursuing invariably the same\\nObject evinces a design to reduce them under absolute Despotism, it is their right, it is their duty,\\nto throw off such Government, and to provide new Guards for their future securit y.— \\x14Such has\\nbeen the patient sufferance of these Colonies; and such is now the necessity which constrainsthem to alter their former Systems of Government. The history of the present King of GreatBritain is a history of repeated injuries and usurpations, all having in direct object the\\nestablishment of an absolute Tyranny over these States. To prove this, let Facts be submitted to a\\ncandid world. \\nHe has refused his Assent to Laws, the most wholesome and necessary for the\\npublic good.He has forbidden his Governors to pass Laws of immediate and pressingimportance, unless suspended in their operation till his Assent should be obtained;and when so suspended, he has utterly neglected to attend to them.He has refused to pass other Laws for the accommodation of large districts of\\npeople, unless those people would relinquish the right of Representation in theLegislature, a right inestimable to them and formidable to tyrants only. He has called together legislative bodies at places unusual, uncomfortable, and distantfrom the depository of their public Records, for the sole purpose of fatiguing them into\\ncompliance with his measures.\""
      ]
     },
     "execution_count": 38,
     "metadata": {},
     "output_type": "execute_result"
    }
   ],
   "source": [
    "page_one_text"
   ]
  },
  {
   "cell_type": "code",
   "execution_count": 39,
   "id": "b5641466",
   "metadata": {},
   "outputs": [
    {
     "name": "stdout",
     "output_type": "stream",
     "text": [
      "Page 1:\n",
      "Declaration of Independence\n",
      "IN CONGRESS, July 4, 1776.  \n",
      "The unanimous Declaration of the thirteen united States of America,  \n",
      "When in the Course of human events, it becomes necessary for one people to dissolve thepolitical bands which have connected them with another, and to assume among the powers of theearth, the separate and equal station to which the Laws of Nature and of Nature's God entitlethem, a decent respect to the opinions of mankind requires that they should declare the causeswhich impel them to the separation. We hold these truths to be self-evident, that all men are created equal, that they are endowed bytheir Creator with certain unalienable Rights, that among these are Life, Liberty and the pursuit\n",
      "of Happiness.— \u0014That to secure these rights, Governments are instituted among Men, derivingtheir just powers from the consent of the governed,—  \u0014That whenever any Form of Government\n",
      "becomes destructive of these ends, it is the Right of the People to alter or to abolish it, and to\n",
      "institute new Government, laying its foundation on such principles and organizing its powers in\n",
      "such form, as to them shall seem most likely to effect their Safety and Happiness. Prudence,indeed, will dictate that Governments long established should not be changed for light andtransient causes; and accordingly all experience hath shewn, that mankind are more disposed to\n",
      "suffer, while evils are sufferable, than to right themselves by abolishing the forms to which theyare accustomed. But when a long train of abuses and usurpations, pursuing invariably the same\n",
      "Object evinces a design to reduce them under absolute Despotism, it is their right, it is their duty,\n",
      "to throw off such Government, and to provide new Guards for their future securit y.— \u0014Such has\n",
      "been the patient sufferance of these Colonies; and such is now the necessity which constrainsthem to alter their former Systems of Government. The history of the present King of GreatBritain is a history of repeated injuries and usurpations, all having in direct object the\n",
      "establishment of an absolute Tyranny over these States. To prove this, let Facts be submitted to a\n",
      "candid world. \n",
      "He has refused his Assent to Laws, the most wholesome and necessary for the\n",
      "public good.He has forbidden his Governors to pass Laws of immediate and pressingimportance, unless suspended in their operation till his Assent should be obtained;and when so suspended, he has utterly neglected to attend to them.He has refused to pass other Laws for the accommodation of large districts of\n",
      "people, unless those people would relinquish the right of Representation in theLegislature, a right inestimable to them and formidable to tyrants only. He has called together legislative bodies at places unusual, uncomfortable, and distantfrom the depository of their public Records, for the sole purpose of fatiguing them into\n",
      "compliance with his measures.\n",
      "\n",
      "Page 2:\n",
      "He has dissolved Re presentative Ho uses repeatedly , for opposing wit h manly\n",
      "firmness his invasions on the rights of the people.\n",
      "He has refused for a long time, after such dissolutions, to cause others to be\n",
      "elected; whereby the Leg islative powers, incapable of Annihilation, have returned\n",
      "to the People at lar ge for their exe rcise; the State r emaining in the me an time\n",
      "exposed to all the dangers of invasion from without, and convulsions within.\n",
      "He has endeavou red to prevent the  population of these  States; for that pur pose\n",
      "obstructing the L aws for Natural ization of Foreig ners; refusing  to pass others to\n",
      "encourage their migrations hither, and raising the conditions of new\n",
      "Appropriations of  Lands.\n",
      "He has obstructed the Administration of Justice, by refusing his Assent to Laws\n",
      "for establishing  Judiciary pow ers.\n",
      "He has made Judge s dependent on his Wil l alone, for the te nure of their off ices,\n",
      "and the amount and  payment of t heir salaries.\n",
      "He has erected  a multitude of New  Offices, and se nt hither swarms of  Officers to\n",
      "harrass our people, and eat out their substance.\n",
      "He has kept among us, in times of peace, Standing Armies without the Consent of\n",
      "our legislature s.\n",
      "He has affected to render the Military independent of a nd superior to the Civil power.\n",
      "He has combined with others to subject us to a jurisdiction foreign to our\n",
      "constitution, and unacknowledged by our laws; giving his Assent to their Acts of\n",
      "pretended Legislation:\n",
      "For Quartering  large bodies of  armed troops amon g us:\n",
      "For protecting them, by a mock Trial, from punishment for any  Murders which\n",
      "they should c ommit on the Inha bitants of these Sta tes:\n",
      "For cutting off our Trade with all parts of the world:\n",
      "For imposing Taxe s on us without our Con sent: For deprivi ng us in many  cases,\n",
      "of the benefits of T rial by J ury:\n",
      "For transporting us beyond Seas to be tried for pretended of fences\n",
      "For abolishing the free System of English L aws in a neighbouring Province,\n",
      "establishing therein an Arbitrary government, and e nlarging its Boundaries so as\n",
      "\n",
      "Page 3:\n",
      "to render it at onc e an example and fi t instrument for intr oducing the same\n",
      "absolute rule into  these Colonies:\n",
      "For taking away our Charters, abolishing our most valuable L aws, and altering\n",
      "fundamentally  the Forms of our G overnments:\n",
      "For suspending  our own Leg islatures, and de claring themse lves invested with\n",
      "power to legislate for us in all cases whatsoever.\n",
      "He has abdicated Government here, by declar ing us out of his Protection and\n",
      "waging War ag ainst us.\n",
      "He has plundered our seas, ravaged our Coasts, burnt our towns, and destroy ed the\n",
      "lives of our people.\n",
      "He is at this time transporting large Armies of foreign Mercenaries to compleat\n",
      "the works of death, desolation and tyranny , already begun with circumstances of\n",
      "Cruelty & pe rfidy scar cely para lleled in the most ba rbarous ages,  and totally\n",
      "unworthy of the Head of a civilized nation.\n",
      "He has constrained our fellow Citizens taken Captive on the high Seas to bear\n",
      "Arms against their Country, to become the executioners of their friends and\n",
      "Brethren, or to  fall themselves by  their Hands.\n",
      "He has excited domestic insurrections amongst us, and has endeavoured to bring\n",
      "on the inhabitants of our frontiers, the merciless Indian Savages, whose known\n",
      "rule of warfare, is an undistinguished destruction of all ages, sexes and conditions. \n",
      "In every  stage of these O ppressions We have  Petitioned for Redr ess in the most humble  terms:\n",
      "Our repeated Pe titions have been a nswered only  by repeate d injury. A Pr ince whose char acter is\n",
      "thus marked by every ac t which may define a Tyra nt, is unfit to be the ruler of a free people. \n",
      "Nor have We been wanting in attentions to our Brittish brethren. We have warned them from\n",
      "time to time  of attemp ts by th eir legi slature t o extend an  unwarra ntable jur isdiction  over us. We\n",
      "have reminded them of the circumstances of our emigration and settlement here. We have\n",
      "appealed to their native justice and magnanimity, and we have c onjured them by the ties of our\n",
      "common kindred to disavow these usurpations, which, would inevitably interrupt our\n",
      "connections and correspondence. They too have bee n deaf to the voice of justice and of\n",
      "consanguinity. We must, therefore, acquiesce in the necessity , which denounces our Separation,\n",
      "and hold them, as we hold the rest of mankind, Enemies in War, in Peace Friends. \n",
      "We, therefore, t he Representativ es of the united Sta tes of America, i n General Congr ess,\n",
      "Assembled, appealing to the Supreme Judge of the world for the rectitude of our intentions, do,\n",
      "in the Name, and by Authority of the g ood People of these Colonies, solemnly publish and\n",
      "declare, That th ese United Colonie s are, and of Rig ht ought to be Fre e and Indepe ndent States;\n",
      "that they are Absolved from all Allegiance to the British Crown, and that a ll political connection\n",
      "\n",
      "Page 4:\n",
      "between them and the State of Great Britain, is and ought to be totally dissolved; and that as Freeand Independent States, they have full Power to levy War, conclude Peace, contract Alliances,\n",
      "establish Commerce, and to do all other Acts and Things which Independent States may of rightdo. And for the support of this Declaration, with a firm reliance on the protection of divineProvidence, we mutually pledge to each other our Lives, our Fortunes and our sacred Honor.[The 56 signatures on the Declaration were arranged in six columns: ] \n",
      "[Column 1] Georgia:\n",
      "   Button Gwinnett\n",
      "   Lyman Hall\n",
      "   George Walton \n",
      "[Column 2] North Carolina:\n",
      "   William Hooper\n",
      "   Joseph Hewes\n",
      "   John Penn\n",
      " South Carolina:\n",
      "   Edward Ru tledge\n",
      "   Thomas Heyward, Jr.\n",
      "  Thomas Lynch, Jr.\n",
      "  Arthur Middleton \n",
      "[Column 3] Massachusetts:\n",
      "   John Hancock Maryland:\n",
      "   Samuel Chase   William Paca   Thomas Stone   Charles Carroll of Carrollton Virginia:\n",
      "   George Wythe   Richard Henry Lee   Thomas Jefferson   Benjamin Harrison   Thomas Nelson, Jr.   Francis Lightfoot Lee   Carter Braxton [Column 4] Pennsylvania:\n",
      "  Robert Morris   Benjamin Rush\n",
      "   Benjamin Fran klin\n",
      "   John Morton\n",
      "\n",
      "Page 5:\n",
      "   George Clymer\n",
      "   James Smith\n",
      "   George Taylor\n",
      "   James Wilson\n",
      "   George Ross\n",
      " Delaware:\n",
      "   Caesar Rodney\n",
      "   George Read\n",
      "   Thomas McKean \n",
      "[Column 5] New York:\n",
      "   Wi lliam Floyd\n",
      "   Philip Livingston\n",
      "   Francis L ewis\n",
      "   Lewis Morris\n",
      " New Jersey:\n",
      "   Richard Stockton\n",
      "   John Witherspoon\n",
      "   Francis Hopkinson\n",
      "   John Hart\n",
      "   Abraham Clark \n",
      "[Column 6] New Hampshire:\n",
      "   Josiah Bartlett\n",
      "   William Whipple\n",
      " Massachusetts:\n",
      "   Samuel Adams\n",
      "   John Adams\n",
      "   Robert Treat Paine\n",
      "   Elbridge Gerry\n",
      " Rhode Island:\n",
      "   Stephen Hopkins\n",
      "   William Ellery\n",
      " Connecticut:\n",
      "   Roger Sherman\n",
      "   Samuel Huntington\n",
      "   William Williams\n",
      "   Oliver Wolcott\n",
      " New Hampshire:\n",
      " Matthew Thornton\n",
      " \n",
      "\n"
     ]
    }
   ],
   "source": [
    "# Open the PDF file in binary mode\n",
    "with open('US_Declaration.pdf', 'rb') as f:\n",
    "    \n",
    "    # Create a PDF reader object\n",
    "    pdf_reader = PyPDF2.PdfReader(f)\n",
    "\n",
    "    # Get the total number of pages\n",
    "    total_pages = len(pdf_reader.pages)\n",
    "\n",
    "    # Iterate over all pages and extract text\n",
    "    for page_number in range(total_pages):\n",
    "        page = pdf_reader.pages[page_number]\n",
    "        page_text = page.extract_text()\n",
    "\n",
    "        # Print the extracted text for each page\n",
    "        print(f\"Page {page_number + 1}:\\n{page_text}\\n\")"
   ]
  },
  {
   "cell_type": "code",
   "execution_count": 41,
   "id": "498e53d9",
   "metadata": {},
   "outputs": [
    {
     "data": {
      "text/plain": [
       "'He has dissolved Re presentative Ho uses repeatedly , for opposing wit h manly\\nfirmness his invasions on the rights of the people.\\nHe has refused for a long time, after such dissolutions, to cause others to be\\nelected; whereby the Leg islative powers, incapable of Annihilation, have returned\\nto the People at lar ge for their exe rcise; the State r emaining in the me an time\\nexposed to all the dangers of invasion from without, and convulsions within.\\nHe has endeavou red to prevent the  population of these  States; for that pur pose\\nobstructing the L aws for Natural ization of Foreig ners; refusing  to pass others to\\nencourage their migrations hither, and raising the conditions of new\\nAppropriations of  Lands.\\nHe has obstructed the Administration of Justice, by refusing his Assent to Laws\\nfor establishing  Judiciary pow ers.\\nHe has made Judge s dependent on his Wil l alone, for the te nure of their off ices,\\nand the amount and  payment of t heir salaries.\\nHe has erected  a multitude of New  Offices, and se nt hither swarms of  Officers to\\nharrass our people, and eat out their substance.\\nHe has kept among us, in times of peace, Standing Armies without the Consent of\\nour legislature s.\\nHe has affected to render the Military independent of a nd superior to the Civil power.\\nHe has combined with others to subject us to a jurisdiction foreign to our\\nconstitution, and unacknowledged by our laws; giving his Assent to their Acts of\\npretended Legislation:\\nFor Quartering  large bodies of  armed troops amon g us:\\nFor protecting them, by a mock Trial, from punishment for any  Murders which\\nthey should c ommit on the Inha bitants of these Sta tes:\\nFor cutting off our Trade with all parts of the world:\\nFor imposing Taxe s on us without our Con sent: For deprivi ng us in many  cases,\\nof the benefits of T rial by J ury:\\nFor transporting us beyond Seas to be tried for pretended of fences\\nFor abolishing the free System of English L aws in a neighbouring Province,\\nestablishing therein an Arbitrary government, and e nlarging its Boundaries so as'"
      ]
     },
     "execution_count": 41,
     "metadata": {},
     "output_type": "execute_result"
    }
   ],
   "source": [
    "page_two = pdf_reader.pages[1]\n",
    "page_two_text = page_two.extract_text()\n",
    "page_two_text"
   ]
  },
  {
   "cell_type": "code",
   "execution_count": 45,
   "id": "9ad7b5a9",
   "metadata": {},
   "outputs": [],
   "source": [
    "s = open('Business_Proposal.pdf','rb')"
   ]
  },
  {
   "cell_type": "code",
   "execution_count": 48,
   "id": "862a7213",
   "metadata": {},
   "outputs": [
    {
     "data": {
      "text/plain": [
       "2"
      ]
     },
     "execution_count": 48,
     "metadata": {},
     "output_type": "execute_result"
    }
   ],
   "source": [
    "pdf_reader = PyPDF2.PdfReader(f)\n",
    "len(pdf_reader.pages)"
   ]
  },
  {
   "cell_type": "code",
   "execution_count": 49,
   "id": "84a57b79",
   "metadata": {},
   "outputs": [
    {
     "data": {
      "text/plain": [
       "'AUTHORS:  \\nAmy Baker, Finance Chair, x345, abaker@ourcompany.com  \\nChris Donaldson, Accounting Dir., x621, cdonaldson@ourcompany.com  \\nErin Freeman, Sr. VP, x879, efreeman@ourcompany.com  '"
      ]
     },
     "execution_count": 49,
     "metadata": {},
     "output_type": "execute_result"
    }
   ],
   "source": [
    "page_two = pdf_reader.pages[1]\n",
    "page_two_text = page_two.extract_text()\n",
    "page_two_text"
   ]
  },
  {
   "cell_type": "code",
   "execution_count": null,
   "id": "429590a0",
   "metadata": {},
   "outputs": [],
   "source": []
  }
 ],
 "metadata": {
  "kernelspec": {
   "display_name": "Python 3 (ipykernel)",
   "language": "python",
   "name": "python3"
  },
  "language_info": {
   "codemirror_mode": {
    "name": "ipython",
    "version": 3
   },
   "file_extension": ".py",
   "mimetype": "text/x-python",
   "name": "python",
   "nbconvert_exporter": "python",
   "pygments_lexer": "ipython3",
   "version": "3.11.5"
  }
 },
 "nbformat": 4,
 "nbformat_minor": 5
}
